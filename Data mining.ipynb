{
 "cells": [
  {
   "cell_type": "code",
   "execution_count": 1,
   "id": "0b8fdcfc-e153-4f01-8879-2e80497851be",
   "metadata": {},
   "outputs": [],
   "source": [
    "# import the necessary libraries \n",
    "import pandas as pd\n",
    "import numpy as np\n",
    "import re"
   ]
  },
  {
   "cell_type": "code",
   "execution_count": 2,
   "id": "452e9223-9b1c-40d7-b4f9-e1854aa8055f",
   "metadata": {},
   "outputs": [],
   "source": [
    "job = pd.read_csv(r\"C:\\Users\\bhard\\Downloads\\indeed_job_data.csv\")"
   ]
  },
  {
   "cell_type": "code",
   "execution_count": 3,
   "id": "d7301622-4e78-4534-be60-9ab46c5409d4",
   "metadata": {},
   "outputs": [
    {
     "data": {
      "text/html": [
       "<div>\n",
       "<style scoped>\n",
       "    .dataframe tbody tr th:only-of-type {\n",
       "        vertical-align: middle;\n",
       "    }\n",
       "\n",
       "    .dataframe tbody tr th {\n",
       "        vertical-align: top;\n",
       "    }\n",
       "\n",
       "    .dataframe thead th {\n",
       "        text-align: right;\n",
       "    }\n",
       "</style>\n",
       "<table border=\"1\" class=\"dataframe\">\n",
       "  <thead>\n",
       "    <tr style=\"text-align: right;\">\n",
       "      <th></th>\n",
       "      <th>Title</th>\n",
       "      <th>Company</th>\n",
       "      <th>Location</th>\n",
       "      <th>Salary</th>\n",
       "      <th>Job Type</th>\n",
       "      <th>Date Posted</th>\n",
       "      <th>Summary</th>\n",
       "    </tr>\n",
       "  </thead>\n",
       "  <tbody>\n",
       "    <tr>\n",
       "      <th>0</th>\n",
       "      <td>PO, Research &amp; Data Analyst</td>\n",
       "      <td>The Elevation Church</td>\n",
       "      <td>Nigeria</td>\n",
       "      <td>NaN</td>\n",
       "      <td>Full-time</td>\n",
       "      <td>PostedJust posted</td>\n",
       "      <td>Train volunteers on the use of M&amp;E frameworks ...</td>\n",
       "    </tr>\n",
       "    <tr>\n",
       "      <th>1</th>\n",
       "      <td>QA Tester - Intern</td>\n",
       "      <td>mDoc Healthcare</td>\n",
       "      <td>Lagos</td>\n",
       "      <td>NaN</td>\n",
       "      <td>NaN</td>\n",
       "      <td>EmployerActive 6 days ago</td>\n",
       "      <td>Advanced knowledge of data security and encryp...</td>\n",
       "    </tr>\n",
       "    <tr>\n",
       "      <th>2</th>\n",
       "      <td>Data Analyst - Healthcare</td>\n",
       "      <td>eMedicStore</td>\n",
       "      <td>Lagos</td>\n",
       "      <td>NaN</td>\n",
       "      <td>NaN</td>\n",
       "      <td>EmployerActive 5 days ago</td>\n",
       "      <td>Implement new data analysis methodologies and ...</td>\n",
       "    </tr>\n",
       "    <tr>\n",
       "      <th>3</th>\n",
       "      <td>HR Analyst</td>\n",
       "      <td>Jobrole Consulting Limited</td>\n",
       "      <td>Ikeja</td>\n",
       "      <td>₦150,000 - ₦200,000 a month</td>\n",
       "      <td>Full-time</td>\n",
       "      <td>PostedPosted 2 days ago</td>\n",
       "      <td>Analyze and interpret data to generate actiona...</td>\n",
       "    </tr>\n",
       "    <tr>\n",
       "      <th>4</th>\n",
       "      <td>Business Intelligence Analyst</td>\n",
       "      <td>TSL Metroline Limited</td>\n",
       "      <td>Lagos</td>\n",
       "      <td>NaN</td>\n",
       "      <td>NaN</td>\n",
       "      <td>PostedPosted 1 day ago</td>\n",
       "      <td>Analyse business information/ data to identify...</td>\n",
       "    </tr>\n",
       "  </tbody>\n",
       "</table>\n",
       "</div>"
      ],
      "text/plain": [
       "                           Title                     Company Location  \\\n",
       "0    PO, Research & Data Analyst        The Elevation Church  Nigeria   \n",
       "1             QA Tester - Intern             mDoc Healthcare    Lagos   \n",
       "2      Data Analyst - Healthcare                 eMedicStore    Lagos   \n",
       "3                     HR Analyst  Jobrole Consulting Limited    Ikeja   \n",
       "4  Business Intelligence Analyst       TSL Metroline Limited    Lagos   \n",
       "\n",
       "                        Salary   Job Type                Date Posted  \\\n",
       "0                          NaN  Full-time          PostedJust posted   \n",
       "1                          NaN        NaN  EmployerActive 6 days ago   \n",
       "2                          NaN        NaN  EmployerActive 5 days ago   \n",
       "3  ₦150,000 - ₦200,000 a month  Full-time    PostedPosted 2 days ago   \n",
       "4                          NaN        NaN     PostedPosted 1 day ago   \n",
       "\n",
       "                                             Summary  \n",
       "0  Train volunteers on the use of M&E frameworks ...  \n",
       "1  Advanced knowledge of data security and encryp...  \n",
       "2  Implement new data analysis methodologies and ...  \n",
       "3  Analyze and interpret data to generate actiona...  \n",
       "4  Analyse business information/ data to identify...  "
      ]
     },
     "execution_count": 3,
     "metadata": {},
     "output_type": "execute_result"
    }
   ],
   "source": [
    "job.head()"
   ]
  },
  {
   "cell_type": "code",
   "execution_count": 4,
   "id": "cbdee319-84a2-416f-b531-7456cf6010cd",
   "metadata": {},
   "outputs": [
    {
     "name": "stdout",
     "output_type": "stream",
     "text": [
      "<class 'pandas.core.frame.DataFrame'>\n",
      "RangeIndex: 203 entries, 0 to 202\n",
      "Data columns (total 7 columns):\n",
      " #   Column       Non-Null Count  Dtype \n",
      "---  ------       --------------  ----- \n",
      " 0   Title        203 non-null    object\n",
      " 1   Company      200 non-null    object\n",
      " 2   Location     203 non-null    object\n",
      " 3   Salary       15 non-null     object\n",
      " 4   Job Type     101 non-null    object\n",
      " 5   Date Posted  203 non-null    object\n",
      " 6   Summary      203 non-null    object\n",
      "dtypes: object(7)\n",
      "memory usage: 11.2+ KB\n"
     ]
    }
   ],
   "source": [
    "# Display information about our dataset \n",
    "job.info()"
   ]
  },
  {
   "cell_type": "markdown",
   "id": "a6c287b1-92ad-4424-b4dc-65fcf808dca4",
   "metadata": {},
   "source": [
    "Data Cleaning\n",
    "Data Cleaning Tasks\n",
    "Handle Missing Values: Identify and handle missing values in the dataset, especially in columns such as Salary, Company, and Job Type\n",
    "\n",
    "Extract Numeric Values from Salary: Extract numeric values from the Salary column and convert them into a uniform format, removing currency symbols, text or whitespace as well as dealing with salary range.\n",
    "\n",
    "Replace inconsistent values in the 'Job Type' column\n",
    "\n",
    "Parse Date Posted: Parse the Date Posted column to convert dates into a consistent format (e.g., YYYY-MM-DD)\n",
    "\n",
    "Standardize Summary column: Standardize Summary column to ensure consistency, such as removing leading/trailing whitespace, and fixing any encoding issues (e.g., fixing the characters like â€¦)"
   ]
  },
  {
   "cell_type": "markdown",
   "id": "c63533f1-73dd-489e-ba47-26b345a60572",
   "metadata": {},
   "source": [
    "#1. Handle missing values"
   ]
  },
  {
   "cell_type": "code",
   "execution_count": 5,
   "id": "1d32d9af-acc9-4ffa-ad81-5c8a8901e676",
   "metadata": {},
   "outputs": [
    {
     "name": "stdout",
     "output_type": "stream",
     "text": [
      "Missing Values:\n",
      " Title            0\n",
      "Company          3\n",
      "Location         0\n",
      "Salary         188\n",
      "Job Type       102\n",
      "Date Posted      0\n",
      "Summary          0\n",
      "dtype: int64\n"
     ]
    }
   ],
   "source": [
    "# Identify missing values\n",
    "missing_values = job.isnull().sum()\n",
    "print(\"Missing Values:\\n\", missing_values)"
   ]
  },
  {
   "cell_type": "code",
   "execution_count": 7,
   "id": "8d67615a-7439-4466-b445-e0a9138cc050",
   "metadata": {},
   "outputs": [],
   "source": [
    "# Fill missing Company values with a default value\n",
    "job['Company'].fillna('Unknown', inplace=True)\n",
    "\n",
    "# Fill missing Job Type values with a default value\n",
    "job['Job Type'].fillna('Unknown', inplace=True) "
   ]
  },
  {
   "cell_type": "markdown",
   "id": "922448f2-2a12-4e14-94f2-a0af12361e42",
   "metadata": {},
   "source": [
    "#2. Extract Numeric Values from Salary"
   ]
  },
  {
   "cell_type": "code",
   "execution_count": 8,
   "id": "ce6c94c4-c58f-4357-a42c-701699a4b6cd",
   "metadata": {},
   "outputs": [
    {
     "data": {
      "text/plain": [
       "array([nan, '₦150,000 - ₦200,000 a month', '₦100,000 - ₦150,000 a month',\n",
       "       '₦200,000 a month', '₦70,000 - ₦150,000 a month',\n",
       "       '₦90,000 - ₦130,000 a month', '₦300,000 - ₦350,000 a month',\n",
       "       '₦450,000 - ₦600,000 a month', '₦200,000 - ₦250,000 a month',\n",
       "       '₦220,000 a month', '₦60,000 - ₦80,000 a month'], dtype=object)"
      ]
     },
     "execution_count": 8,
     "metadata": {},
     "output_type": "execute_result"
    }
   ],
   "source": [
    "job[\"Salary\"].unique()"
   ]
  },
  {
   "cell_type": "code",
   "execution_count": 11,
   "id": "4f4791aa-addb-4f5e-9a96-f3d1360341fc",
   "metadata": {},
   "outputs": [],
   "source": [
    "# Remove naira symbols, commas, whitespace and non-numeric characters\n",
    "job['Salary'] = job['Salary'].str.replace(r'[₦,a-zA-Z\\s]', '', regex=True)\n"
   ]
  },
  {
   "cell_type": "code",
   "execution_count": 12,
   "id": "8c3aa908-db73-4ab9-9db4-42fa60874868",
   "metadata": {},
   "outputs": [],
   "source": [
    "# Convert values in range to average\n",
    "def convert_to_average(salary):\n",
    "    if isinstance(salary, str) and '-' in salary:\n",
    "        # Extract lower and upper range values\n",
    "        lower, upper = map(int, salary.split('-'))\n",
    "        return (lower + upper) / 2\n",
    "    else:\n",
    "        return salary\n",
    "\n",
    "job['Salary'] = job['Salary'].apply(convert_to_average)"
   ]
  },
  {
   "cell_type": "code",
   "execution_count": 13,
   "id": "c6430039-e0dc-46a4-8196-bc6adaa96c28",
   "metadata": {},
   "outputs": [],
   "source": [
    "# Convert to numeric\n",
    "job['Salary'] = job['Salary'].astype(float)"
   ]
  },
  {
   "cell_type": "code",
   "execution_count": 15,
   "id": "6f359d9c-118c-4c5c-8f64-dd338a3c7dc6",
   "metadata": {},
   "outputs": [],
   "source": [
    "# Impute missing salary values with the median of salary\n",
    "job['Salary'] = job['Salary'].fillna(job['Salary'].median())\n"
   ]
  },
  {
   "cell_type": "code",
   "execution_count": 16,
   "id": "113e260f-d700-4606-85bf-6a4dabbad72a",
   "metadata": {},
   "outputs": [
    {
     "data": {
      "text/plain": [
       "array([175000., 125000., 200000., 110000., 325000., 525000., 225000.,\n",
       "       220000.,  70000.])"
      ]
     },
     "execution_count": 16,
     "metadata": {},
     "output_type": "execute_result"
    }
   ],
   "source": [
    "job[\"Salary\"].unique()"
   ]
  },
  {
   "cell_type": "markdown",
   "id": "15294baf-ced3-485d-b38c-25e42edf2c1f",
   "metadata": {},
   "source": [
    "#For the Salary column, the data cleaning processes we performed are;\n",
    "\n",
    "Retrieve unique values from the 'Salary' column to understand the salary data distribution.\n",
    "\n",
    "Clean the 'Salary' column by removing Naira symbols, commas, whitespace, and non-numeric characters using regular expressions.\n",
    "\n",
    "Convert salary ranges to their average values to provide a more accurate representation.\n",
    "\n",
    "Convert the cleaned salary values to numeric format by casting them to float.\n",
    "\n",
    "Fill any remaining missing values in the 'Salary' column with the median salary.\n",
    "\n",
    "Finally, retrieve the unique values from the 'Salary' column again to verify the cleaning and conversion process."
   ]
  },
  {
   "cell_type": "code",
   "execution_count": 17,
   "id": "94832456-3362-4575-ae03-c44227de84b0",
   "metadata": {},
   "outputs": [
    {
     "name": "stdout",
     "output_type": "stream",
     "text": [
      "Missing Values:\n",
      " Title          0\n",
      "Company        0\n",
      "Location       0\n",
      "Salary         0\n",
      "Job Type       0\n",
      "Date Posted    0\n",
      "Summary        0\n",
      "dtype: int64\n"
     ]
    }
   ],
   "source": [
    "# Identify missing values\n",
    "missing_values = job.isnull().sum()\n",
    "print(\"Missing Values:\\n\", missing_values)"
   ]
  },
  {
   "cell_type": "markdown",
   "id": "769d123f-ccea-4205-892a-29b29a729055",
   "metadata": {},
   "source": [
    "#3. Replace inconsistent values in the 'Job Type' column"
   ]
  },
  {
   "cell_type": "code",
   "execution_count": 19,
   "id": "adea90ac-4790-4ada-9382-707f54009738",
   "metadata": {},
   "outputs": [
    {
     "data": {
      "text/plain": [
       "array(['Full-time', 'Unknown', 'Temporary', 'Full-time +1', 'Contract',\n",
       "       'Permanent'], dtype=object)"
      ]
     },
     "execution_count": 19,
     "metadata": {},
     "output_type": "execute_result"
    }
   ],
   "source": [
    "job['Job Type'].unique()"
   ]
  },
  {
   "cell_type": "code",
   "execution_count": 20,
   "id": "77802fb8-c873-4036-b8ed-2e5821b1494f",
   "metadata": {},
   "outputs": [],
   "source": [
    "# Replace inconsistent values in the 'Job Type' column\n",
    "job['Job Type'] = job['Job Type'].replace({'Contract +1': 'Contract', 'Full-time +1': 'Full-time'})"
   ]
  },
  {
   "cell_type": "markdown",
   "id": "06d78802-5a91-472f-b30b-da383caad9c5",
   "metadata": {},
   "source": [
    "#4. Parse Date Posted"
   ]
  },
  {
   "cell_type": "code",
   "execution_count": 21,
   "id": "3ec43c5b-9b43-4bce-ab53-201365d820aa",
   "metadata": {},
   "outputs": [],
   "source": [
    "# Clean Date Posted column\n",
    "job['Date Posted'] = job['Date Posted'].str.replace('Posted', '')  # Remove \"Posted\" phrase\n",
    "job['Date Posted'] = job['Date Posted'].str.replace('EmployerActive', '')  # Remove \"EmployerActive\" phrase\n",
    "job['Date Posted'] = job['Date Posted'].str.replace('Today', '0 days ago')  # Replace \"Today\" with 0 days ago"
   ]
  },
  {
   "cell_type": "code",
   "execution_count": 23,
   "id": "342505bb-2bfe-44bc-b737-784adf963457",
   "metadata": {},
   "outputs": [],
   "source": [
    "def convert_to_date(value):\n",
    "    try:\n",
    "        if 'yesterday' in value.lower():\n",
    "            return pd.Timestamp.now().normalize() - pd.Timedelta(days=1)\n",
    "        elif 'today' in value.lower():\n",
    "            return pd.Timestamp.now().normalize()\n",
    "        elif '+' in value:\n",
    "            days = int(value.split('+')[0])\n",
    "            return pd.Timestamp.now().normalize() - pd.Timedelta(days=days)\n",
    "        else:\n",
    "            days = int(value.split()[0])\n",
    "            return pd.Timestamp.now().normalize() - pd.Timedelta(days=days)\n",
    "    except (ValueError, IndexError):\n",
    "        return pd.NaT\n"
   ]
  },
  {
   "cell_type": "markdown",
   "id": "0ca9a4bf-b48b-45c4-93f4-2b3eaa1845ff",
   "metadata": {},
   "source": [
    "#Standardize Summary column"
   ]
  },
  {
   "cell_type": "code",
   "execution_count": 24,
   "id": "eca5ea52-9c94-49d8-b610-dbb433fb2931",
   "metadata": {},
   "outputs": [],
   "source": [
    "# Function to remove special characters and non-letter characters\n",
    "def clean_summary(summary):\n",
    "    # Define regular expression pattern to match non-letter characters\n",
    "    pattern = r'[^a-zA-Z\\s]'\n",
    "    # Replace non-letter characters with a space\n",
    "    cleaned_summary = re.sub(pattern, ' ', summary)\n",
    "    # Remove extra whitespaces\n",
    "    cleaned_summary = ' '.join(cleaned_summary.split())\n",
    "    return cleaned_summary\n",
    "\n",
    "# Apply the clean_summary function to the Summary column\n",
    "job['Summary'] = job['Summary'].apply(clean_summary)"
   ]
  },
  {
   "cell_type": "code",
   "execution_count": 25,
   "id": "f68bd2c6-1f04-40f0-8ac0-554a2283fe41",
   "metadata": {},
   "outputs": [
    {
     "data": {
      "text/html": [
       "<div>\n",
       "<style scoped>\n",
       "    .dataframe tbody tr th:only-of-type {\n",
       "        vertical-align: middle;\n",
       "    }\n",
       "\n",
       "    .dataframe tbody tr th {\n",
       "        vertical-align: top;\n",
       "    }\n",
       "\n",
       "    .dataframe thead th {\n",
       "        text-align: right;\n",
       "    }\n",
       "</style>\n",
       "<table border=\"1\" class=\"dataframe\">\n",
       "  <thead>\n",
       "    <tr style=\"text-align: right;\">\n",
       "      <th></th>\n",
       "      <th>Title</th>\n",
       "      <th>Company</th>\n",
       "      <th>Location</th>\n",
       "      <th>Salary</th>\n",
       "      <th>Job Type</th>\n",
       "      <th>Date Posted</th>\n",
       "      <th>Summary</th>\n",
       "    </tr>\n",
       "  </thead>\n",
       "  <tbody>\n",
       "    <tr>\n",
       "      <th>0</th>\n",
       "      <td>PO, Research &amp; Data Analyst</td>\n",
       "      <td>The Elevation Church</td>\n",
       "      <td>Nigeria</td>\n",
       "      <td>175000.0</td>\n",
       "      <td>Full-time</td>\n",
       "      <td>Just posted</td>\n",
       "      <td>Train volunteers on the use of M E frameworks ...</td>\n",
       "    </tr>\n",
       "    <tr>\n",
       "      <th>1</th>\n",
       "      <td>QA Tester - Intern</td>\n",
       "      <td>mDoc Healthcare</td>\n",
       "      <td>Lagos</td>\n",
       "      <td>175000.0</td>\n",
       "      <td>Unknown</td>\n",
       "      <td>6 days ago</td>\n",
       "      <td>Advanced knowledge of data security and encryp...</td>\n",
       "    </tr>\n",
       "    <tr>\n",
       "      <th>2</th>\n",
       "      <td>Data Analyst - Healthcare</td>\n",
       "      <td>eMedicStore</td>\n",
       "      <td>Lagos</td>\n",
       "      <td>175000.0</td>\n",
       "      <td>Unknown</td>\n",
       "      <td>5 days ago</td>\n",
       "      <td>Implement new data analysis methodologies and ...</td>\n",
       "    </tr>\n",
       "    <tr>\n",
       "      <th>3</th>\n",
       "      <td>HR Analyst</td>\n",
       "      <td>Jobrole Consulting Limited</td>\n",
       "      <td>Ikeja</td>\n",
       "      <td>175000.0</td>\n",
       "      <td>Full-time</td>\n",
       "      <td>2 days ago</td>\n",
       "      <td>Analyze and interpret data to generate actiona...</td>\n",
       "    </tr>\n",
       "    <tr>\n",
       "      <th>4</th>\n",
       "      <td>Business Intelligence Analyst</td>\n",
       "      <td>TSL Metroline Limited</td>\n",
       "      <td>Lagos</td>\n",
       "      <td>175000.0</td>\n",
       "      <td>Unknown</td>\n",
       "      <td>1 day ago</td>\n",
       "      <td>Analyse business information data to identify ...</td>\n",
       "    </tr>\n",
       "  </tbody>\n",
       "</table>\n",
       "</div>"
      ],
      "text/plain": [
       "                           Title                     Company Location  \\\n",
       "0    PO, Research & Data Analyst        The Elevation Church  Nigeria   \n",
       "1             QA Tester - Intern             mDoc Healthcare    Lagos   \n",
       "2      Data Analyst - Healthcare                 eMedicStore    Lagos   \n",
       "3                     HR Analyst  Jobrole Consulting Limited    Ikeja   \n",
       "4  Business Intelligence Analyst       TSL Metroline Limited    Lagos   \n",
       "\n",
       "     Salary   Job Type  Date Posted  \\\n",
       "0  175000.0  Full-time  Just posted   \n",
       "1  175000.0    Unknown   6 days ago   \n",
       "2  175000.0    Unknown   5 days ago   \n",
       "3  175000.0  Full-time   2 days ago   \n",
       "4  175000.0    Unknown    1 day ago   \n",
       "\n",
       "                                             Summary  \n",
       "0  Train volunteers on the use of M E frameworks ...  \n",
       "1  Advanced knowledge of data security and encryp...  \n",
       "2  Implement new data analysis methodologies and ...  \n",
       "3  Analyze and interpret data to generate actiona...  \n",
       "4  Analyse business information data to identify ...  "
      ]
     },
     "execution_count": 25,
     "metadata": {},
     "output_type": "execute_result"
    }
   ],
   "source": [
    "job.head()"
   ]
  },
  {
   "cell_type": "code",
   "execution_count": 26,
   "id": "d1f47ad4-2ec1-4cd1-92b3-831c387002f0",
   "metadata": {},
   "outputs": [
    {
     "name": "stdout",
     "output_type": "stream",
     "text": [
      "<class 'pandas.core.frame.DataFrame'>\n",
      "RangeIndex: 203 entries, 0 to 202\n",
      "Data columns (total 7 columns):\n",
      " #   Column       Non-Null Count  Dtype  \n",
      "---  ------       --------------  -----  \n",
      " 0   Title        203 non-null    object \n",
      " 1   Company      203 non-null    object \n",
      " 2   Location     203 non-null    object \n",
      " 3   Salary       203 non-null    float64\n",
      " 4   Job Type     203 non-null    object \n",
      " 5   Date Posted  203 non-null    object \n",
      " 6   Summary      203 non-null    object \n",
      "dtypes: float64(1), object(6)\n",
      "memory usage: 11.2+ KB\n"
     ]
    }
   ],
   "source": [
    "job.info()"
   ]
  },
  {
   "cell_type": "code",
   "execution_count": 27,
   "id": "5878d2d1-79de-4a76-b3ff-24731d53686e",
   "metadata": {},
   "outputs": [],
   "source": [
    "# Save the cleaned DataFrame to a CSV file\n",
    "\n",
    "job.to_csv(\"cleaned_job_data.csv\", index=False)"
   ]
  },
  {
   "cell_type": "code",
   "execution_count": null,
   "id": "8849bb20-d62f-4f81-a672-46052d9836a1",
   "metadata": {},
   "outputs": [],
   "source": []
  }
 ],
 "metadata": {
  "kernelspec": {
   "display_name": "Python 3 (ipykernel)",
   "language": "python",
   "name": "python3"
  },
  "language_info": {
   "codemirror_mode": {
    "name": "ipython",
    "version": 3
   },
   "file_extension": ".py",
   "mimetype": "text/x-python",
   "name": "python",
   "nbconvert_exporter": "python",
   "pygments_lexer": "ipython3",
   "version": "3.12.4"
  }
 },
 "nbformat": 4,
 "nbformat_minor": 5
}
